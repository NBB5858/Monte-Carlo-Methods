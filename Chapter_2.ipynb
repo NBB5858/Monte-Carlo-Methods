{
 "cells": [
  {
   "cell_type": "code",
   "execution_count": 63,
   "id": "2a362a6c-8de7-4ae0-83af-0b870c0c6391",
   "metadata": {},
   "outputs": [],
   "source": [
    "import numpy as np\n",
    "import matplotlib.pyplot as plt"
   ]
  },
  {
   "cell_type": "markdown",
   "id": "39b315ab-9778-4aa8-951e-adfd58e1224d",
   "metadata": {},
   "source": [
    "# Chapter 2"
   ]
  },
  {
   "cell_type": "markdown",
   "id": "5cd67e1e-205a-4594-93ab-ca91c28846c1",
   "metadata": {},
   "source": [
    "## (2.1) $\\pi$ estimate\n",
    "Hello World of Monte-Carlo, just for fun. Estimate $\\pi$. Let $f(x_1, x_2)$ be 1 inside the quarter cycle in the first quadrant and zero otherwise.  Take $Y=f(x_1, x_2)$. \n",
    "\n",
    "### (a)\n",
    "Use MC sample size of n = 1000 to produce confidence interval for $\\mu = E[Y]$ based on CLT. "
   ]
  },
  {
   "cell_type": "code",
   "execution_count": 19,
   "id": "1a02eacd-b114-4c06-9339-9a9b9340f807",
   "metadata": {},
   "outputs": [],
   "source": [
    "def simulation(n_samples):\n",
    "\n",
    "    gen = np.random.uniform(0, 1, size=(n_samples, 2))\n",
    "\n",
    "    radius_squared = np.power(gen[:, 0], 2) + np.power(gen[:, 1], 2)\n",
    "\n",
    "    hits = np.zeros_like(radius_squared)\n",
    "\n",
    "    hits[radius_squared < 1] = 1\n",
    "\n",
    "    # Assuming that numerical precision is not an issue\n",
    "    est_pi = 4*hits.mean()\n",
    "\n",
    "    std_est_pi = 4*hits.std()\n",
    "\n",
    "    lower_confidence = pi_est - 1.96*std_est_pi/np.sqrt(n_samples)\n",
    "    upper_confidence = pi_est + 1.96*std_est_pi/np.sqrt(n_samples)\n",
    "    \n",
    "    return est_pi, std_est_pi, lower_confidence, upper_confidence"
   ]
  },
  {
   "cell_type": "code",
   "execution_count": 23,
   "id": "f682e2f3-9084-404b-b139-7df1ef23ecb6",
   "metadata": {},
   "outputs": [
    {
     "name": "stdout",
     "output_type": "stream",
     "text": [
      "estimate: 3.268\n",
      "standard error: 1.547\n",
      "[3.012, 3.204]\n"
     ]
    }
   ],
   "source": [
    "pi_est, std_est_pi, lower_conf, upper_conf = simulation(1000)\n",
    "print(f'estimate: {pi_est}')\n",
    "print(f'standard error: {np.round(std_est_pi, 3)}')\n",
    "print(f'[{np.round(lower_conf, 3)}, {np.round(upper_conf, 3)}]')"
   ]
  },
  {
   "cell_type": "markdown",
   "id": "ab2a2fcc-59ee-43b3-b059-01656b92cbd8",
   "metadata": {},
   "source": [
    "### (b) \n",
    "Repeat the simulation 1000 times and see how many confidence intervals contain $\\pi$"
   ]
  },
  {
   "cell_type": "code",
   "execution_count": 28,
   "id": "a65cdcad-80ea-48ec-83f8-10f359dd36d2",
   "metadata": {},
   "outputs": [
    {
     "name": "stdout",
     "output_type": "stream",
     "text": [
      "0.947\n"
     ]
    }
   ],
   "source": [
    "counts = 0\n",
    "for _ in range(1000):\n",
    "\n",
    "    pi_est, std_est_pi, lower_conf, upper_conf = simulation(1000)\n",
    "\n",
    "    if np.pi > lower_conf and np.pi < upper_conf:\n",
    "        counts+=1\n",
    "\n",
    "print(counts/1000)"
   ]
  },
  {
   "cell_type": "markdown",
   "id": "8a76719b-6915-4c91-babd-7fa7132c96dc",
   "metadata": {},
   "source": [
    "## (2.14) MC when the mean doesn't exist\n",
    "\n",
    "When we arrive at a transit station, we can take either a bus or a taxi. The waiting time for a taxi is $X\\sim Exp(1)$, while the waiting time for a bus is $Y\\sim U(0,1)$, independent of $X$.\n",
    "\n",
    "### (a)\n",
    "Prove that $\\mathbf{E}[Y/X] = \\infty$, so by this measure the bus is infinitely worse than the taxi service"
   ]
  },
  {
   "cell_type": "markdown",
   "id": "2c7e78be-7db1-495f-a38a-79d2b56b4a5a",
   "metadata": {},
   "source": [
    "We check the integral:\n",
    "\n",
    "$$ \\mathbf{E}[\\frac{Y}{X}] = \\mathbf{E}[Y]\\mathbf{E}[\\frac{1}{X}] = \\frac{1}{2} \\int_0^\\infty dx\\, \\frac{e^{-x}}{x} = \\infty$$"
   ]
  },
  {
   "cell_type": "markdown",
   "id": "9eb66bff-a83c-416c-824a-8c86d55b185e",
   "metadata": {},
   "source": [
    "### (b)\n",
    "Counter the previous part by showing that $\\mathbf{E}[\\frac{X}{Y}] = \\infty$ too."
   ]
  },
  {
   "cell_type": "markdown",
   "id": "9e04d96b-af68-4301-b89e-5917d08716bc",
   "metadata": {},
   "source": [
    "Again, we check:\n",
    "\n",
    "$$ \\mathbf{E}[\\frac{X}{Y}] = \\mathbf{E}[\\frac{1}{Y}] = \\int_0^1 dy\\,\\frac{1}{y} = \\infty $$"
   ]
  },
  {
   "cell_type": "markdown",
   "id": "e44df328-5185-4963-ad16-0dd45512746a",
   "metadata": {},
   "source": [
    "### (c) \n",
    "Simulate 10,000 $(X, Y)$ pairs and compute the sample mean in each case. Plot sample mean vs. $n$."
   ]
  },
  {
   "cell_type": "code",
   "execution_count": 102,
   "id": "c9ec0748-8a76-4e18-9854-075a97966389",
   "metadata": {},
   "outputs": [],
   "source": [
    "def ratio_simulation(num_samples):\n",
    "\n",
    "    gen_X = -1*np.log(np.random.uniform(0, 1, size=num_samples))\n",
    "    gen_Y = np.random.uniform(0, 1, size=num_samples)\n",
    "\n",
    "    ratio = gen_Y/gen_X\n",
    "\n",
    "    running_mean = ratio.cumsum()/np.arange(1, ratio.shape[0]+1)\n",
    "\n",
    "    running_variance = np.power(ratio, 2).cumsum()/np.arange(1, ratio.shape[0]+1) - np.power(running_mean, 2)\n",
    "    running_std = np.sqrt(running_variance)\n",
    "\n",
    "    running_lower_confidence = running_mean - 3*running_std/np.sqrt(num_samples)\n",
    "    running_upper_confidence = running_mean + 3*running_std/np.sqrt(num_samples)\n",
    "\n",
    "    return running_mean, running_std, running_lower_confidence, running_upper_confidence"
   ]
  },
  {
   "cell_type": "code",
   "execution_count": 103,
   "id": "72d2fbdd-c0ba-4f63-a3a3-a72bdfebbb6d",
   "metadata": {},
   "outputs": [],
   "source": [
    "num_samples = 10000\n",
    "\n",
    "running_mean, running_std, running_lower_confidence, running_upper_confidence = ratio_simulation(num_samples)"
   ]
  },
  {
   "cell_type": "code",
   "execution_count": 104,
   "id": "94c55462-7f33-43c3-80a1-73a30e95f0b0",
   "metadata": {},
   "outputs": [
    {
     "data": {
      "image/png": "[encoded data removed]",
      "text/plain": [
       "<Figure size 640x480 with 1 Axes>"
      ]
     },
     "metadata": {},
     "output_type": "display_data"
    }
   ],
   "source": [
    "plt.plot(np.arange(1, num_samples+1), running_mean);"
   ]
  },
  {
   "cell_type": "markdown",
   "id": "b28c7c3b-9ee9-4777-91cb-bcb4e5c12279",
   "metadata": {},
   "source": [
    "One can see large jumps, followed by steady decays. This is characteristic of the MC simulation sampling locations where the random variable is particularly large, followed by sampling regions where there random variable is smaller."
   ]
  },
  {
   "cell_type": "markdown",
   "id": "af60f6ae-441b-4a1a-9420-fc27ed3b606e",
   "metadata": {},
   "source": [
    "### (d)\n",
    "Plot the upper and lower limits of the 99% confidence interval"
   ]
  },
  {
   "cell_type": "code",
   "execution_count": 105,
   "id": "c6114d6b-238c-485f-9b9a-668e4b507107",
   "metadata": {},
   "outputs": [
    {
     "data": {
      "image/png": "[encoded data removed]",
      "text/plain": [
       "<Figure size 640x480 with 1 Axes>"
      ]
     },
     "metadata": {},
     "output_type": "display_data"
    }
   ],
   "source": [
    "plt.fill_between(np.arange(1, num_samples+1), running_lower_confidence, running_upper_confidence);"
   ]
  },
  {
   "cell_type": "markdown",
   "id": "cfe48eb7-7936-4992-9afb-bb4cd8ba4e9a",
   "metadata": {},
   "source": [
    "Unsuprisingly, the confidence intervlas don't cover the true mean, which is infinite. They do however, shrink as expected from the CLT"
   ]
  },
  {
   "cell_type": "code",
   "execution_count": null,
   "id": "b6e3f4ed-7003-4e9a-b0fb-54d17a2a826b",
   "metadata": {},
   "outputs": [],
   "source": []
  }
 ],
 "metadata": {
  "kernelspec": {
   "display_name": "Python 3 (ipykernel)",
   "language": "python",
   "name": "python3"
  },
  "language_info": {
   "codemirror_mode": {
    "name": "ipython",
    "version": 3
   },
   "file_extension": ".py",
   "mimetype": "text/x-python",
   "name": "python",
   "nbconvert_exporter": "python",
   "pygments_lexer": "ipython3",
   "version": "3.11.9"
  }
 },
 "nbformat": 4,
 "nbformat_minor": 5
}
